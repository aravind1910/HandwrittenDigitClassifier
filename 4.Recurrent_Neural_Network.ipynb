{
  "cells": [
    {
      "metadata": {},
      "cell_type": "markdown",
      "source": "#  Part 1:  Recurrent Neural Network "
    },
    {
      "metadata": {},
      "cell_type": "markdown",
      "source": "###  Importing packages"
    },
    {
      "metadata": {
        "trusted": true
      },
      "cell_type": "code",
      "source": "import re\nimport numpy as np\nimport pandas as pd \n\nfrom sklearn.feature_extraction.text import CountVectorizer\nfrom sklearn.model_selection import train_test_split\n\nfrom keras.preprocessing import sequence\nfrom keras.preprocessing.text import Tokenizer\nfrom keras.preprocessing.sequence import pad_sequences\nfrom keras.models import Sequential\nfrom keras.layers import Dense, Embedding, LSTM\nfrom keras.datasets import imdb\n\nfrom keras.utils.np_utils import to_categorical\n\nimport warnings\nwarnings.filterwarnings('ignore')\nimport ssl\nssl._create_default_https_context = ssl._create_unverified_context",
      "execution_count": 1,
      "outputs": [
        {
          "output_type": "stream",
          "text": "/home/nbuser/anaconda3_420/lib/python3.5/site-packages/h5py/__init__.py:36: FutureWarning: Conversion of the second argument of issubdtype from `float` to `np.floating` is deprecated. In future, it will be treated as `np.float64 == np.dtype(float).type`.\n  from ._conv import register_converters as _register_converters\nUsing TensorFlow backend.\n",
          "name": "stderr"
        }
      ]
    },
    {
      "metadata": {},
      "cell_type": "markdown",
      "source": "### Preparing Dataset"
    },
    {
      "metadata": {
        "trusted": true
      },
      "cell_type": "code",
      "source": "max_features = 1000\nmaxlen = 80  # cut texts after this number of words (among top max_features most common words)\nbatch_size = 32\n\nprint('Loading data...')\n(x_train, y_train), (x_test, y_test) = imdb.load_data(num_words=max_features)\nprint(len(x_train), 'train sequences')\nprint(len(x_test), 'test sequences')\n\nprint('Pad sequences (samples x time)')\nx_train = sequence.pad_sequences(x_train, maxlen=maxlen)\nx_test = sequence.pad_sequences(x_test, maxlen=maxlen)\nprint('x_train shape:', x_train.shape)\nprint('x_test shape:', x_test.shape)",
      "execution_count": 2,
      "outputs": [
        {
          "output_type": "stream",
          "text": "Loading data...\nDownloading data from https://s3.amazonaws.com/text-datasets/imdb.npz\n17293312/17464789 [============================>.] - ETA: 0s25000 train sequences\n25000 test sequences\nPad sequences (samples x time)\nx_train shape: (25000, 80)\nx_test shape: (25000, 80)\n",
          "name": "stdout"
        }
      ]
    },
    {
      "metadata": {},
      "cell_type": "markdown",
      "source": "### Visualize the data"
    },
    {
      "metadata": {
        "trusted": true
      },
      "cell_type": "code",
      "source": "INDEX_FROM=3   # word index offset\n\nword_to_id = imdb.get_word_index()\nword_to_id = {k:(v+INDEX_FROM) for k,v in word_to_id.items()}\nword_to_id[\"<PAD>\"] = 0\nword_to_id[\"<START>\"] = 1\nword_to_id[\"<UNK>\"] = 2\n\nid_to_word = {value:key for key,value in word_to_id.items()}\nprint(' '.join(id_to_word[id] for id in x_train[0] ))",
      "execution_count": 3,
      "outputs": [
        {
          "output_type": "stream",
          "text": "Downloading data from https://s3.amazonaws.com/text-datasets/imdb_word_index.json\n1572864/1641221 [===========================>..] - ETA: 0sthat played the <UNK> of <UNK> and paul they were just brilliant children are often left out of the <UNK> <UNK> i think because the stars that play them all <UNK> up are such a big <UNK> for the whole film but these children are amazing and should be <UNK> for what they have done don't you think the whole story was so <UNK> because it was true and was <UNK> life after all that was <UNK> with us all\n",
          "name": "stdout"
        }
      ]
    },
    {
      "metadata": {},
      "cell_type": "markdown",
      "source": "### Building a Model"
    },
    {
      "metadata": {
        "trusted": true
      },
      "cell_type": "code",
      "source": "print('Build model...')\nmodel = Sequential()\nmodel.add(Embedding(max_features, 8))\nmodel.add(LSTM(16, dropout=0.2, recurrent_dropout=0.2))\nmodel.add(Dense(1, activation='sigmoid'))\nmodel.summary()",
      "execution_count": 4,
      "outputs": [
        {
          "output_type": "stream",
          "text": "Build model...\n_________________________________________________________________\nLayer (type)                 Output Shape              Param #   \n=================================================================\nembedding_1 (Embedding)      (None, None, 8)           8000      \n_________________________________________________________________\nlstm_1 (LSTM)                (None, 16)                1600      \n_________________________________________________________________\ndense_1 (Dense)              (None, 1)                 17        \n=================================================================\nTotal params: 9,617\nTrainable params: 9,617\nNon-trainable params: 0\n_________________________________________________________________\n",
          "name": "stdout"
        }
      ]
    },
    {
      "metadata": {},
      "cell_type": "markdown",
      "source": "### Model Training"
    },
    {
      "metadata": {
        "trusted": true
      },
      "cell_type": "code",
      "source": "# try using different optimizers and different optimizer configs\nmodel.compile(loss='binary_crossentropy', optimizer='adam', metrics=['accuracy'])\n\n# Write the training input and output, batch size, and testing input and output\n\nmodel.fit(x_train, y_train, \n          batch_size=batch_size, \n          epochs=1, \n          validation_data=(x_test, y_test))",
      "execution_count": 6,
      "outputs": [
        {
          "output_type": "stream",
          "text": "Train on 25000 samples, validate on 25000 samples\nEpoch 1/1\n25000/25000 [==============================] - 94s - loss: 0.4569 - acc: 0.7915 - val_loss: 0.4444 - val_acc: 0.7965\n",
          "name": "stdout"
        },
        {
          "output_type": "execute_result",
          "execution_count": 6,
          "data": {
            "text/plain": "<keras.callbacks.History at 0x7f11d4040eb8>"
          },
          "metadata": {}
        }
      ]
    },
    {
      "metadata": {},
      "cell_type": "markdown",
      "source": "### Testing"
    },
    {
      "metadata": {
        "trusted": true
      },
      "cell_type": "code",
      "source": "score, acc = model.evaluate(x_test, y_test, batch_size=batch_size)\nprint('Test score:', score)\nprint('Test accuracy:', acc)",
      "execution_count": 7,
      "outputs": [
        {
          "output_type": "stream",
          "text": "25000/25000 [==============================] - 13s    \nTest score: 0.44442879214286807\nTest accuracy: 0.79652\n",
          "name": "stdout"
        }
      ]
    },
    {
      "metadata": {},
      "cell_type": "markdown",
      "source": "### Prediction"
    },
    {
      "metadata": {
        "trusted": true
      },
      "cell_type": "code",
      "source": "prediction = model.predict(x_test[2:3])\nprint('Prediction value:',prediction[0])\nprint('Test Label:',y_test[2:3])",
      "execution_count": 8,
      "outputs": [
        {
          "output_type": "stream",
          "text": "Prediction value: [0.8248254]\nTest Label: [1]\n",
          "name": "stdout"
        }
      ]
    },
    {
      "metadata": {},
      "cell_type": "markdown",
      "source": "### Other RNN Layers\n\n* keras.layers.RNN(cell, return_sequences=False)\n* keras.layers.SimpleRNN(units, activation='tanh')\n* keras.layers.GRU(units, activation='tanh', recurrent_activation='hard_sigmoid')\n* keras.layers.ConvLSTM2D(filters, kernel_size, strides=(1, 1), padding='valid', )\n* keras.layers.SimpleRNNCell(units, activation='tanh')\n* keras.layers.GRUCell(units, activation='tanh', recurrent_activation='hard_sigmoid')\n* keras.layers.LSTMCell(units, activation='tanh', recurrent_activation='hard_sigmoid')\n* keras.layers.CuDNNGRU(units, kernel_initializer='glorot_uniform')\n* keras.layers.CuDNNLSTM(units, kernel_initializer='glorot_uniform')"
    },
    {
      "metadata": {},
      "cell_type": "markdown",
      "source": "# Part 2: Recurrent Neural Network with Custom Dataset"
    },
    {
      "metadata": {
        "collapsed": true,
        "trusted": false
      },
      "cell_type": "code",
      "source": "# Credits to Peter Nagy",
      "execution_count": 21,
      "outputs": []
    },
    {
      "metadata": {},
      "cell_type": "markdown",
      "source": "### Load data"
    },
    {
      "metadata": {
        "trusted": true
      },
      "cell_type": "code",
      "source": "data = pd.read_csv('Senti.csv')\n# Keeping only the neccessary columns\ndata = data[['text','sentiment']]",
      "execution_count": 9,
      "outputs": []
    },
    {
      "metadata": {
        "collapsed": true
      },
      "cell_type": "markdown",
      "source": "### Visualize data"
    },
    {
      "metadata": {
        "trusted": true
      },
      "cell_type": "code",
      "source": "data.head(10)",
      "execution_count": 10,
      "outputs": [
        {
          "output_type": "execute_result",
          "execution_count": 10,
          "data": {
            "text/html": "<div>\n<table border=\"1\" class=\"dataframe\">\n  <thead>\n    <tr style=\"text-align: right;\">\n      <th></th>\n      <th>text</th>\n      <th>sentiment</th>\n    </tr>\n  </thead>\n  <tbody>\n    <tr>\n      <th>0</th>\n      <td>I love this car</td>\n      <td>Positive</td>\n    </tr>\n    <tr>\n      <th>1</th>\n      <td>This view is amazing</td>\n      <td>Positive</td>\n    </tr>\n    <tr>\n      <th>2</th>\n      <td>I feel great this morning</td>\n      <td>Positive</td>\n    </tr>\n    <tr>\n      <th>3</th>\n      <td>I am so excited about the concert</td>\n      <td>Positive</td>\n    </tr>\n    <tr>\n      <th>4</th>\n      <td>He is my best friend</td>\n      <td>Positive</td>\n    </tr>\n    <tr>\n      <th>5</th>\n      <td>I do not like this car</td>\n      <td>Negative</td>\n    </tr>\n    <tr>\n      <th>6</th>\n      <td>This view is horrible</td>\n      <td>Negative</td>\n    </tr>\n    <tr>\n      <th>7</th>\n      <td>I feel tired this morning</td>\n      <td>Negative</td>\n    </tr>\n    <tr>\n      <th>8</th>\n      <td>I am not looking forward to the concert</td>\n      <td>Negative</td>\n    </tr>\n    <tr>\n      <th>9</th>\n      <td>He is my enemy</td>\n      <td>Negative</td>\n    </tr>\n  </tbody>\n</table>\n</div>",
            "text/plain": "                                      text sentiment\n0                          I love this car  Positive\n1                     This view is amazing  Positive\n2                I feel great this morning  Positive\n3        I am so excited about the concert  Positive\n4                     He is my best friend  Positive\n5                   I do not like this car  Negative\n6                    This view is horrible  Negative\n7                I feel tired this morning  Negative\n8  I am not looking forward to the concert  Negative\n9                           He is my enemy  Negative"
          },
          "metadata": {}
        }
      ]
    },
    {
      "metadata": {},
      "cell_type": "markdown",
      "source": "### Format data"
    },
    {
      "metadata": {
        "trusted": true
      },
      "cell_type": "code",
      "source": "data = data[data.sentiment != \"Neutral\"]\ndata['text'] = data['text'].apply(lambda x: x.lower())\ndata['text'] = data['text'].apply((lambda x: re.sub('[^a-zA-z0-9\\s]','',x)))\n\nfor idx,row in data.iterrows():\n    row[0] = row[0].replace('rt',' ')\n\nmax_fatures = 2000\ntokenizer = Tokenizer(nb_words=max_fatures, split=' ')\ntokenizer.fit_on_texts(data['text'].values)\nX = tokenizer.texts_to_sequences(data['text'].values)\nX = pad_sequences(X)",
      "execution_count": 11,
      "outputs": []
    },
    {
      "metadata": {},
      "cell_type": "markdown",
      "source": "### Training set"
    },
    {
      "metadata": {
        "trusted": true
      },
      "cell_type": "code",
      "source": "Y = pd.get_dummies(data['sentiment']).values\nX_train, X_test, Y_train, Y_test = train_test_split(X,Y, test_size = 0.33, random_state = 42)\nprint('Shape of training samples:',X_train.shape,Y_train.shape)\nprint('Shape of testing samples:',X_test.shape,Y_test.shape)",
      "execution_count": 12,
      "outputs": [
        {
          "output_type": "stream",
          "text": "Shape of training samples: (6, 8) (6, 2)\nShape of testing samples: (4, 8) (4, 2)\n",
          "name": "stdout"
        }
      ]
    },
    {
      "metadata": {},
      "cell_type": "markdown",
      "source": "### Design a model"
    },
    {
      "metadata": {
        "trusted": true
      },
      "cell_type": "code",
      "source": "model = Sequential()\nmodel.add(Embedding(max_fatures, 128 ,input_length = X.shape[1], dropout=0.2))\nmodel.add(LSTM(128))\nmodel.add(Dense(2, activation='softmax'))\nmodel.compile(loss = 'categorical_crossentropy', optimizer='adam',metrics = ['accuracy'])\nprint(model.summary())",
      "execution_count": 13,
      "outputs": [
        {
          "output_type": "stream",
          "text": "_________________________________________________________________\nLayer (type)                 Output Shape              Param #   \n=================================================================\nembedding_2 (Embedding)      (None, 8, 128)            256000    \n_________________________________________________________________\nlstm_2 (LSTM)                (None, 128)               131584    \n_________________________________________________________________\ndense_2 (Dense)              (None, 2)                 258       \n=================================================================\nTotal params: 387,842\nTrainable params: 387,842\nNon-trainable params: 0\n_________________________________________________________________\nNone\n",
          "name": "stdout"
        }
      ]
    },
    {
      "metadata": {},
      "cell_type": "markdown",
      "source": "### Training "
    },
    {
      "metadata": {
        "trusted": true
      },
      "cell_type": "code",
      "source": "batch_size = 32\nmodel.fit(X_train, Y_train, epochs = 5, batch_size=batch_size, verbose = 2)",
      "execution_count": 14,
      "outputs": [
        {
          "output_type": "stream",
          "text": "Epoch 1/5\n0s - loss: 0.6937 - acc: 0.5000\nEpoch 2/5\n0s - loss: 0.6866 - acc: 0.6667\nEpoch 3/5\n0s - loss: 0.6792 - acc: 0.8333\nEpoch 4/5\n0s - loss: 0.6713 - acc: 0.8333\nEpoch 5/5\n0s - loss: 0.6625 - acc: 0.8333\n",
          "name": "stdout"
        },
        {
          "output_type": "execute_result",
          "execution_count": 14,
          "data": {
            "text/plain": "<keras.callbacks.History at 0x7f11b4fed1d0>"
          },
          "metadata": {}
        }
      ]
    },
    {
      "metadata": {},
      "cell_type": "markdown",
      "source": "### Validation"
    },
    {
      "metadata": {
        "trusted": true
      },
      "cell_type": "code",
      "source": "score,acc = model.evaluate(X_test, Y_test, verbose = 2, batch_size = batch_size)\nprint(\"Score: %.2f\" % (score))\nprint(\"Accuracy: %.2f\" % (acc))",
      "execution_count": 15,
      "outputs": [
        {
          "output_type": "stream",
          "text": "Score: 0.73\nAccuracy: 0.00\n",
          "name": "stdout"
        }
      ]
    },
    {
      "metadata": {},
      "cell_type": "markdown",
      "source": "### Formatting Test Example"
    },
    {
      "metadata": {
        "trusted": true
      },
      "cell_type": "code",
      "source": "text = 'I like him'\ntester = np.array([text])\ntester = pd.DataFrame(tester)\ntester.columns = ['text']\n\ntester['text'] = tester['text'].apply(lambda x: x.lower())\ntester['text'] = tester['text'].apply((lambda x: re.sub('[^a-zA-z0-9\\s]','',x)))\n\nmax_fatures = 2000\ntest = tokenizer.texts_to_sequences(tester['text'].values)\ntest = pad_sequences(test)\n\nif X.shape[1]>test.shape[1]:\n    test = np.pad(test[0], (X.shape[1]-test.shape[1],0), 'constant')\n    \ntest = np.array([test])\n\nprediction = model.predict(test)\nprint('Prediction value:',prediction[0])",
      "execution_count": 16,
      "outputs": [
        {
          "output_type": "stream",
          "text": "Prediction value: [0.530661   0.46933904]\n",
          "name": "stdout"
        }
      ]
    },
    {
      "metadata": {},
      "cell_type": "markdown",
      "source": "# Part 3: RNN Design Choices"
    },
    {
      "metadata": {},
      "cell_type": "markdown",
      "source": "## Influence of number of nodes"
    },
    {
      "metadata": {},
      "cell_type": "markdown",
      "source": "### LSTM with 8 nodes"
    },
    {
      "metadata": {
        "trusted": true
      },
      "cell_type": "code",
      "source": "model = Sequential()\nmodel.add(Embedding(max_features, 8))\nmodel.add(LSTM(8, dropout=0.0, recurrent_dropout=0.0))\nmodel.add(Dense(1, activation='sigmoid'))\nmodel.summary()\n\nmodel.compile(loss='binary_crossentropy', optimizer='adam', metrics=['accuracy'])\nmodel.fit(x_train, y_train, batch_size=batch_size, epochs=1, validation_data=(x_test, y_test))\n\nscore, acc = model.evaluate(x_test, y_test, batch_size=batch_size)\nprint('Test score:', score)\nprint('Test accuracy:', acc)",
      "execution_count": 19,
      "outputs": [
        {
          "output_type": "stream",
          "text": "_________________________________________________________________\nLayer (type)                 Output Shape              Param #   \n=================================================================\nembedding_5 (Embedding)      (None, None, 8)           8000      \n_________________________________________________________________\nlstm_5 (LSTM)                (None, 8)                 544       \n_________________________________________________________________\ndense_5 (Dense)              (None, 1)                 9         \n=================================================================\nTotal params: 8,553\nTrainable params: 8,553\nNon-trainable params: 0\n_________________________________________________________________\nTrain on 25000 samples, validate on 25000 samples\nEpoch 1/1\n25000/25000 [==============================] - 67s - loss: 0.5199 - acc: 0.7348 - val_loss: 0.4241 - val_acc: 0.8078\n24992/25000 [============================>.] - ETA: 0sTest score: 0.42407950859069826\nTest accuracy: 0.80776\n",
          "name": "stdout"
        }
      ]
    },
    {
      "metadata": {},
      "cell_type": "markdown",
      "source": "### LSTM with 16 nodes"
    },
    {
      "metadata": {
        "trusted": false
      },
      "cell_type": "code",
      "source": "# Write your code here \n\n# Use the same layer design from the above cell ",
      "execution_count": 8,
      "outputs": []
    },
    {
      "metadata": {},
      "cell_type": "markdown",
      "source": "## Influence of Embedding"
    },
    {
      "metadata": {
        "trusted": true
      },
      "cell_type": "code",
      "source": "model = Sequential()\nmodel.add(Embedding(max_features, 4))\nmodel.add(LSTM(16, dropout=0.0, recurrent_dropout=0.0))\nmodel.add(Dense(1, activation='sigmoid'))\nmodel.summary()\n\nmodel.compile(loss='binary_crossentropy', optimizer='adam', metrics=['accuracy'])\nmodel.fit(x_train, y_train, batch_size=batch_size, epochs=1, validation_data=(x_test, y_test))\n\nscore, acc = model.evaluate(x_test, y_test, batch_size=batch_size)\nprint('Test score:', score)\nprint('Test accuracy:', acc)",
      "execution_count": 20,
      "outputs": [
        {
          "output_type": "stream",
          "text": "_________________________________________________________________\nLayer (type)                 Output Shape              Param #   \n=================================================================\nembedding_6 (Embedding)      (None, None, 4)           4000      \n_________________________________________________________________\nlstm_6 (LSTM)                (None, 16)                1344      \n_________________________________________________________________\ndense_6 (Dense)              (None, 1)                 17        \n=================================================================\nTotal params: 5,361\nTrainable params: 5,361\nNon-trainable params: 0\n_________________________________________________________________\nTrain on 25000 samples, validate on 25000 samples\nEpoch 1/1\n25000/25000 [==============================] - 76s - loss: 0.5361 - acc: 0.7197 - val_loss: 0.4159 - val_acc: 0.8109\n24960/25000 [============================>.] - ETA: 0sTest score: 0.4158750744724274\nTest accuracy: 0.81092\n",
          "name": "stdout"
        }
      ]
    },
    {
      "metadata": {},
      "cell_type": "markdown",
      "source": "## Influence of Dropout"
    },
    {
      "metadata": {},
      "cell_type": "markdown",
      "source": "### Dropout with probability 0.5"
    },
    {
      "metadata": {
        "trusted": true
      },
      "cell_type": "code",
      "source": "model = Sequential()\nmodel.add(Embedding(max_features, 32))\nmodel.add(LSTM(8, dropout=0.5, recurrent_dropout=0.5))\nmodel.add(Dense(1, activation='sigmoid'))\nmodel.summary()\n\nmodel.compile(loss='binary_crossentropy', optimizer='adam', metrics=['accuracy'])\nmodel.fit(x_train, y_train, batch_size=batch_size, epochs=1, validation_data=(x_test, y_test))\n\nscore, acc = model.evaluate(x_test, y_test, batch_size=batch_size)\nprint('Test score:', score)\nprint('Test accuracy:', acc)",
      "execution_count": 22,
      "outputs": [
        {
          "output_type": "stream",
          "text": "_________________________________________________________________\nLayer (type)                 Output Shape              Param #   \n=================================================================\nembedding_8 (Embedding)      (None, None, 32)          32000     \n_________________________________________________________________\nlstm_8 (LSTM)                (None, 8)                 1312      \n_________________________________________________________________\ndense_8 (Dense)              (None, 1)                 9         \n=================================================================\nTotal params: 33,321\nTrainable params: 33,321\nNon-trainable params: 0\n_________________________________________________________________\nTrain on 25000 samples, validate on 25000 samples\nEpoch 1/1\n25000/25000 [==============================] - 96s - loss: 0.6097 - acc: 0.6767 - val_loss: 0.5319 - val_acc: 0.7357\n24928/25000 [============================>.] - ETA: 0sTest score: 0.5318955614852905\nTest accuracy: 0.73568\n",
          "name": "stdout"
        }
      ]
    },
    {
      "metadata": {},
      "cell_type": "markdown",
      "source": "### Dropout with probability 0.9"
    },
    {
      "metadata": {
        "trusted": false
      },
      "cell_type": "code",
      "source": "# Write your code here \n\n# Use the same model design from the above cell ",
      "execution_count": 9,
      "outputs": []
    },
    {
      "metadata": {},
      "cell_type": "markdown",
      "source": "## Multilayered RNNs"
    },
    {
      "metadata": {},
      "cell_type": "markdown",
      "source": "### RNN with 2 layer LSTM"
    },
    {
      "metadata": {
        "trusted": true
      },
      "cell_type": "code",
      "source": "model = Sequential()\nmodel.add(Embedding(max_features, 8))\nmodel.add(LSTM(8, dropout=0.0, recurrent_dropout=0.0, return_sequences=True))\nmodel.add(LSTM(8, dropout=0.0, recurrent_dropout=0.0))\nmodel.add(Dense(1, activation='sigmoid'))\nmodel.summary()\n\nmodel.compile(loss='binary_crossentropy', optimizer='adam', metrics=['accuracy'])\nmodel.fit(x_train, y_train, batch_size=batch_size, epochs=1, validation_data=(x_test, y_test))\n\nscore, acc = model.evaluate(x_test, y_test, batch_size=batch_size)\nprint('Test score:', score)\nprint('Test accuracy:', acc)",
      "execution_count": 23,
      "outputs": [
        {
          "output_type": "stream",
          "text": "_________________________________________________________________\nLayer (type)                 Output Shape              Param #   \n=================================================================\nembedding_9 (Embedding)      (None, None, 8)           8000      \n_________________________________________________________________\nlstm_9 (LSTM)                (None, None, 8)           544       \n_________________________________________________________________\nlstm_10 (LSTM)               (None, 8)                 544       \n_________________________________________________________________\ndense_9 (Dense)              (None, 1)                 9         \n=================================================================\nTotal params: 9,097\nTrainable params: 9,097\nNon-trainable params: 0\n_________________________________________________________________\nTrain on 25000 samples, validate on 25000 samples\nEpoch 1/1\n25000/25000 [==============================] - 143s - loss: 0.5161 - acc: 0.7306 - val_loss: 0.4224 - val_acc: 0.8078\n25000/25000 [==============================] - 21s    \nTest score: 0.4223626751708984\nTest accuracy: 0.80784\n",
          "name": "stdout"
        }
      ]
    },
    {
      "metadata": {},
      "cell_type": "markdown",
      "source": "### RNN with 3 layer LSTM"
    },
    {
      "metadata": {
        "trusted": false
      },
      "cell_type": "code",
      "source": "# Write your code here \n\n# Use the same node design from the above cell ",
      "execution_count": 10,
      "outputs": []
    },
    {
      "metadata": {},
      "cell_type": "markdown",
      "source": "### What are your findings?"
    }
  ],
  "metadata": {
    "kernelspec": {
      "name": "python3",
      "display_name": "Python 3",
      "language": "python"
    },
    "language_info": {
      "mimetype": "text/x-python",
      "nbconvert_exporter": "python",
      "name": "python",
      "file_extension": ".py",
      "version": "3.5.4",
      "pygments_lexer": "ipython3",
      "codemirror_mode": {
        "version": 3,
        "name": "ipython"
      }
    }
  },
  "nbformat": 4,
  "nbformat_minor": 2
}